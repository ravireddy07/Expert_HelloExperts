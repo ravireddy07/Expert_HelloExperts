{
  "nbformat": 4,
  "nbformat_minor": 0,
  "metadata": {
    "kernelspec": {
      "display_name": "Python 3",
      "language": "python",
      "name": "python3"
    },
    "language_info": {
      "codemirror_mode": {
        "name": "ipython",
        "version": 3
      },
      "file_extension": ".py",
      "mimetype": "text/x-python",
      "name": "python",
      "nbconvert_exporter": "python",
      "pygments_lexer": "ipython3",
      "version": "3.6.3"
    },
    "colab": {
      "name": "MonteCarloSimulation.ipynb",
      "provenance": [],
      "collapsed_sections": []
    }
  },
  "cells": [
    {
      "cell_type": "markdown",
      "metadata": {
        "id": "509bzE5HSXYf",
        "colab_type": "text"
      },
      "source": [
        "# Monte-Carlo Simulation\n",
        "\n",
        "\n",
        "\n",
        ">If you choose 4 random points on a sphere and join them, what is the probability that the resulting tetrahedron contains the centre of the sphere?"
      ]
    },
    {
      "cell_type": "markdown",
      "metadata": {
        "id": "SzNHbXL2SXYn",
        "colab_type": "text"
      },
      "source": [
        "## 1. Import Required Modules"
      ]
    },
    {
      "cell_type": "code",
      "metadata": {
        "id": "NRMDyQoUSXYp",
        "colab_type": "code",
        "colab": {}
      },
      "source": [
        "import scipy as sci\n",
        "import matplotlib.pyplot as plt\n",
        "import scipy.linalg\n",
        "%matplotlib inline"
      ],
      "execution_count": 0,
      "outputs": []
    },
    {
      "cell_type": "markdown",
      "metadata": {
        "id": "aS8kkQ4RSXY3",
        "colab_type": "text"
      },
      "source": [
        "## 2. Define Sample Space"
      ]
    },
    {
      "cell_type": "markdown",
      "metadata": {
        "id": "g3l0hRZHSXY9",
        "colab_type": "text"
      },
      "source": [
        "### Define number of points and create empty arrays to store coordinates"
      ]
    },
    {
      "cell_type": "code",
      "metadata": {
        "id": "IdaXnh3mSXZA",
        "colab_type": "code",
        "colab": {}
      },
      "source": [
        "points=10000\n",
        "x=sci.zeros((points,3))\n",
        "y=sci.zeros((points,3))"
      ],
      "execution_count": 0,
      "outputs": []
    },
    {
      "cell_type": "markdown",
      "metadata": {
        "id": "ZpWzn1-TSXZK",
        "colab_type": "text"
      },
      "source": [
        "### Store all 3D vectors on the surface of a sphere of radius 1 in 'y'"
      ]
    },
    {
      "cell_type": "code",
      "metadata": {
        "id": "E-kJ5buvSXZM",
        "colab_type": "code",
        "colab": {}
      },
      "source": [
        "for i in range(points):\n",
        "    vector=sci.random.rand(1,3)-0.5\n",
        "    if(sci.linalg.norm(vector)!=0 and sci.linalg.norm(vector)<=1.0):\n",
        "        x[i,:]=vector\n",
        "        y[i,:]=x[i,:]/sci.linalg.norm(x[i,:])"
      ],
      "execution_count": 0,
      "outputs": []
    },
    {
      "cell_type": "markdown",
      "metadata": {
        "id": "jvmej5kuSXZZ",
        "colab_type": "text"
      },
      "source": [
        "### Check if all the norms of vectors in 'y' are equal to 1; if \"All Clear\" then proceed"
      ]
    },
    {
      "cell_type": "code",
      "metadata": {
        "id": "k1E29AjkSXZb",
        "colab_type": "code",
        "outputId": "265fd961-5374-4d30-85dc-4f6a755fa3ff",
        "colab": {
          "base_uri": "https://localhost:8080/",
          "height": 34
        }
      },
      "source": [
        "y_norms=sci.zeros(points)\n",
        "for i in range(points):\n",
        "    y_norms[i]=sci.linalg.norm(y[i,:])\n",
        "    tol=1e-10\n",
        "    norm_diff=abs(y_norms-1)\n",
        "    danger_array=y_norms[norm_diff>tol]\n",
        "    \n",
        "if(len(danger_array)==0):\n",
        "    print(\"All Clear\")\n",
        "else:\n",
        "    print(\"Danger\")"
      ],
      "execution_count": 0,
      "outputs": [
        {
          "output_type": "stream",
          "text": [
            "All Clear\n"
          ],
          "name": "stdout"
        }
      ]
    },
    {
      "cell_type": "markdown",
      "metadata": {
        "id": "aZUiSFzCSXZm",
        "colab_type": "text"
      },
      "source": [
        "## 3. Create functions to determine whether the centre lies inside a tetrahedron"
      ]
    },
    {
      "cell_type": "markdown",
      "metadata": {
        "id": "bafDljIQSXZn",
        "colab_type": "text"
      },
      "source": [
        "### The CheckSide function checks if the fourth vertex and a stray point lie on the same side of the plane formed by the remaining three vertices"
      ]
    },
    {
      "cell_type": "code",
      "metadata": {
        "id": "VYJGTtA1SXZp",
        "colab_type": "code",
        "colab": {}
      },
      "source": [
        "def CheckSide(vertices,point):\n",
        "    t1,t2,t3,t4=vertices\n",
        "    p=point\n",
        "    side_1=t2-t1\n",
        "    side_2=t3-t1\n",
        "    normal=sci.cross(side_1,side_2)\n",
        "    ref_vector=t4-t1\n",
        "    ref_sign=sci.dot(normal,ref_vector)\n",
        "    point_vector=p-t1\n",
        "    point_sign=sci.dot(normal,point_vector)\n",
        "    if(sci.sign(ref_sign)==sci.sign(point_sign)):\n",
        "        return 1\n",
        "    else:\n",
        "        return 0"
      ],
      "execution_count": 0,
      "outputs": []
    },
    {
      "cell_type": "markdown",
      "metadata": {
        "id": "jIINUkw2SXZt",
        "colab_type": "text"
      },
      "source": [
        "### The CheckTetrahedron function calls the CheckSide function 4 times and concludes whether the stray point lies inside or outside the tetrahedron"
      ]
    },
    {
      "cell_type": "code",
      "metadata": {
        "id": "pyBGT5z8SXZw",
        "colab_type": "code",
        "colab": {}
      },
      "source": [
        "def CheckTetrahedron(vertices,point):\n",
        "    vert=sci.copy(vertices)\n",
        "    check_1=CheckSide(vert,point)\n",
        "    vert=sci.roll(vert,1,axis=0)\n",
        "    check_2=CheckSide(vert,point)\n",
        "    vert=sci.roll(vert,1,axis=0)\n",
        "    check_3=CheckSide(vert,point)\n",
        "    vert=sci.roll(vert,1,axis=0)\n",
        "    check_4=CheckSide(vert,point)\n",
        "    sum_check=check_1+check_2+check_3+check_4\n",
        "    if(sum_check==4.):\n",
        "        return 1\n",
        "    else:\n",
        "        return 0"
      ],
      "execution_count": 0,
      "outputs": []
    },
    {
      "cell_type": "markdown",
      "metadata": {
        "id": "xi-sfMO9SXZ3",
        "colab_type": "text"
      },
      "source": [
        "## 4. Initialization"
      ]
    },
    {
      "cell_type": "code",
      "metadata": {
        "id": "U1w35IbFSXZ4",
        "colab_type": "code",
        "colab": {}
      },
      "source": [
        "centre=[0,0,0] #Centroid of the sphere\n",
        "number_of_samples=50000 #Number of samples of tetrahedra to be taken\n",
        "sample_span=sci.arange(0,number_of_samples,1) #Array for plotting\n",
        "check_point=sci.zeros(number_of_samples) #Array to store 0s and 1s based on success or failure\n",
        "prob=sci.zeros(number_of_samples) #Array to store resultant probabilities "
      ],
      "execution_count": 0,
      "outputs": []
    },
    {
      "cell_type": "markdown",
      "metadata": {
        "id": "i2m1DjUASXZ8",
        "colab_type": "text"
      },
      "source": [
        "## 5. The Run"
      ]
    },
    {
      "cell_type": "code",
      "metadata": {
        "id": "DgysM3U1SXZ-",
        "colab_type": "code",
        "colab": {}
      },
      "source": [
        "for i in range(number_of_samples):\n",
        "    indices=sci.random.randint(0,points,4) #Get any 4 random numbers as indices for the 'y' array\n",
        "    vertex_list=y[indices] #Get 4 random points from 'y' based on indices obtained\n",
        "    check_point[i]=CheckTetrahedron(vertex_list,centre) #Return 1 for success and 0 for failure\n",
        "    prob[i]=len(check_point[check_point==1.])/(i+1) #Store resultant probability of run"
      ],
      "execution_count": 0,
      "outputs": []
    },
    {
      "cell_type": "markdown",
      "metadata": {
        "id": "9FY1LwRCSXaG",
        "colab_type": "text"
      },
      "source": [
        "## 6. Plotting"
      ]
    },
    {
      "cell_type": "code",
      "metadata": {
        "id": "O3U6JEvqSXaH",
        "colab_type": "code",
        "outputId": "dd14e570-7d83-44a6-dd52-4c6d41fa37a6",
        "colab": {
          "base_uri": "https://localhost:8080/",
          "height": 644
        }
      },
      "source": [
        "#Plot blank figure\n",
        "plt.figure(figsize=(15,10))\n",
        "#Plot resultant probability from simulation\n",
        "plt.plot(sample_span,prob,color=\"navy\",linestyle=\"-\",label=\"Resultant probability from simulation\")\n",
        "#Plot resultant probability from analytical solution\n",
        "plt.plot(sample_span,[0.125]*len(sample_span),color=\"red\",linestyle=\"-\",label=\"Actual resultant probability from analytical solution (0.125)\")\n",
        "#Plot value of final resultant probability in text\n",
        "plt.text(sample_span[int(number_of_samples/2)],0.05,f\"The final probability is {prob[-1]:.4f}\",fontsize=16)\n",
        "#Display axis labels\n",
        "plt.xlabel(\"Number of iterations\",fontsize=14)\n",
        "plt.ylabel(\"Probability\",fontsize=14)\n",
        "#Display legend\n",
        "plt.legend(loc=\"upper right\",fontsize=14)\n",
        "#Display title of the plot\n",
        "plt.title(\"Variation of resultant probability with increase in the number of iterations\",fontsize=14)"
      ],
      "execution_count": 0,
      "outputs": [
        {
          "output_type": "execute_result",
          "data": {
            "text/plain": [
              "Text(0.5, 1.0, 'Variation of resultant probability with increase in the number of iterations')"
            ]
          },
          "metadata": {
            "tags": []
          },
          "execution_count": 9
        },
        {
          "output_type": "display_data",
          "data": {
            "image/png": "[encoded data removed]",
            "text/plain": [
              "<Figure size 1080x720 with 1 Axes>"
            ]
          },
          "metadata": {
            "tags": []
          }
        }
      ]
    }
  ]
}